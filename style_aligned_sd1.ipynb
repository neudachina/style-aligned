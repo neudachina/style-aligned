{
 "cells": [
  {
   "cell_type": "markdown",
   "id": "a885cf5d-c525-4f5b-a8e4-f67d2f699909",
   "metadata": {
    "pycharm": {
     "name": "#%% md\n"
    }
   },
   "source": [
    "## Copyright 2023 Google LLC"
   ]
  },
  {
   "cell_type": "code",
   "execution_count": null,
   "id": "d891d022-8979-40d4-848f-ecb84c17f12c",
   "metadata": {
    "jp-MarkdownHeadingCollapsed": true,
    "pycharm": {
     "name": "#%%\n"
    }
   },
   "outputs": [],
   "source": [
    "# Copyright 2023 Google LLC\n",
    "#\n",
    "# Licensed under the Apache License, Version 2.0 (the \"License\");\n",
    "# you may not use this file except in compliance with the License.\n",
    "# You may obtain a copy of the License at\n",
    "#\n",
    "#      http://www.apache.org/licenses/LICENSE-2.0\n",
    "#\n",
    "# Unless required by applicable law or agreed to in writing, software\n",
    "# distributed under the License is distributed on an \"AS IS\" BASIS,\n",
    "# WITHOUT WARRANTIES OR CONDITIONS OF ANY KIND, either express or implied.\n",
    "# See the License for the specific language governing permissions and\n",
    "# limitations under the License."
   ]
  },
  {
   "cell_type": "code",
   "execution_count": 3,
   "id": "17839612",
   "metadata": {},
   "outputs": [
    {
     "data": {
      "text/plain": [
       "tensor([ 1,  2,  3,  5, 12,  6,  6])"
      ]
     },
     "execution_count": 3,
     "metadata": {},
     "output_type": "execute_result"
    }
   ],
   "source": [
    "import torch\n",
    "\n",
    "t = torch.tensor([1, 2, 3, 5, 6, 6, 6])\n",
    "idx = torch.argmax(t, keepdim=True) \n",
    "t.scatter_(-1, idx, 2, reduce='multiply')\n",
    "t"
   ]
  },
  {
   "cell_type": "code",
   "execution_count": 15,
   "id": "b2041511",
   "metadata": {},
   "outputs": [
    {
     "data": {
      "text/plain": [
       "tensor([[1.0000, 2.0000, 1.6667],\n",
       "        [1.0000, 2.0000, 2.3333]], dtype=torch.float64)"
      ]
     },
     "execution_count": 15,
     "metadata": {},
     "output_type": "execute_result"
    }
   ],
   "source": [
    "import math\n",
    "import torch\n",
    "t = torch.tensor([[1, 2, 4], [1, 2, 5]], dtype=torch.float64)\n",
    "idx = torch.argmax(t, -1, keepdim=True)\n",
    "means = t.mean(-1, keepdim=True)\n",
    "# t.shape, idx.shape, means.shape\n",
    "t.scatter_reduce_(-1, idx, -means, reduce='sum')\n",
    "\n",
    "# math.sqrt(0.2) * (value - mean) + mean"
   ]
  },
  {
   "cell_type": "code",
   "execution_count": 23,
   "id": "d2778ac1",
   "metadata": {},
   "outputs": [
    {
     "name": "stdout",
     "output_type": "stream",
     "text": [
      "tensor([[1],\n",
      "        [1]]) tensor([[0.6000],\n",
      "        [0.6000]], dtype=torch.float64)\n",
      "tensor([[0],\n",
      "        [0]]) tensor([[0.4000],\n",
      "        [0.4000]], dtype=torch.float64)\n",
      "diff: tensor([[0.2000],\n",
      "        [0.2000]], dtype=torch.float64)\n",
      "tensor([[0.1000],\n",
      "        [0.1000]], dtype=torch.float64)\n",
      "other diff: tensor([[0.5000],\n",
      "        [0.5000]], dtype=torch.float64)\n",
      "new diff: tensor([[0.5000],\n",
      "        [0.5000]], dtype=torch.float64)\n"
     ]
    },
    {
     "data": {
      "text/plain": [
       "tensor([[ 0.,  5., 10., 10.,  0.],\n",
       "        [ 0.,  5., 10., 10.,  0.]], dtype=torch.float64)"
      ]
     },
     "execution_count": 23,
     "metadata": {},
     "output_type": "execute_result"
    }
   ],
   "source": [
    "cumsum = torch.tensor([[0.4, 0.6, 0.8, 1, 1], [0.4, 0.6, 0.8, 1, 1]], dtype=torch.float64)\n",
    "s = torch.tensor([[40, 20, 20, 20, 0], [40, 20, 20, 20, 0]], dtype=torch.float64)\n",
    "\n",
    "s[:, 0] = 0\n",
    "\n",
    "idx = torch.argmax(s, dim=-1, keepdim=True)\n",
    "bound = torch.gather(cumsum, dim=-1, index=idx)\n",
    "# print(idx, bound)\n",
    "\n",
    "# надо найти prev index, чтобы узнать, как сильно мы обнулили\n",
    "prev_idx = idx.detach().clone()\n",
    "prev_idx[prev_idx != 0] -= 1\n",
    "prev_bound = torch.gather(cumsum, dim=-1, index=prev_idx)\n",
    "# print(prev_idx, prev_bound)\n",
    "\n",
    "# это вклад конкретно нужного элемента в дисперсии\n",
    "diff = (bound - prev_bound) \n",
    "remained = 0.5 - prev_bound\n",
    "# print('diff:', diff)\n",
    "# print(remained)\n",
    "diff[remained != 0] = remained[remained != 0] / diff[remained != 0]\n",
    "# print('other diff:', diff)\n",
    "diff[remained == 0] = 0\n",
    "# print('new diff:',diff)\n",
    "s.scatter_reduce_(-1, idx, diff, reduce='prod') \n",
    "s"
   ]
  },
  {
   "cell_type": "code",
   "execution_count": 48,
   "id": "46fd6771",
   "metadata": {},
   "outputs": [
    {
     "ename": "RuntimeError",
     "evalue": "Boolean value of Tensor with more than one value is ambiguous",
     "output_type": "error",
     "traceback": [
      "\u001b[0;31m---------------------------------------------------------------------------\u001b[0m",
      "\u001b[0;31mRuntimeError\u001b[0m                              Traceback (most recent call last)",
      "Cell \u001b[0;32mIn[48], line 7\u001b[0m\n\u001b[1;32m      4\u001b[0m t \u001b[38;5;241m=\u001b[39m torch\u001b[38;5;241m.\u001b[39mrandn((\u001b[38;5;241m1\u001b[39m, \u001b[38;5;241m2\u001b[39m, \u001b[38;5;241m3\u001b[39m, \u001b[38;5;241m5\u001b[39m, \u001b[38;5;241m6\u001b[39m))\n\u001b[1;32m      5\u001b[0m \u001b[38;5;66;03m# (t < 3).nonzero().shape\u001b[39;00m\n\u001b[0;32m----> 7\u001b[0m idx \u001b[38;5;241m=\u001b[39m \u001b[38;5;28;43mmax\u001b[39;49m\u001b[43m(\u001b[49m\u001b[38;5;241;43m0\u001b[39;49m\u001b[43m,\u001b[49m\u001b[43m \u001b[49m\u001b[43mtorch\u001b[49m\u001b[38;5;241;43m.\u001b[39;49m\u001b[43margmin\u001b[49m\u001b[43m(\u001b[49m\u001b[43mt\u001b[49m\u001b[43m,\u001b[49m\u001b[43m \u001b[49m\u001b[43mdim\u001b[49m\u001b[38;5;241;43m=\u001b[39;49m\u001b[38;5;241;43m-\u001b[39;49m\u001b[38;5;241;43m1\u001b[39;49m\u001b[43m,\u001b[49m\u001b[43m \u001b[49m\u001b[43mkeepdim\u001b[49m\u001b[38;5;241;43m=\u001b[39;49m\u001b[38;5;28;43;01mTrue\u001b[39;49;00m\u001b[43m)\u001b[49m\u001b[43m \u001b[49m\u001b[38;5;241;43m-\u001b[39;49m\u001b[43m \u001b[49m\u001b[38;5;241;43m1\u001b[39;49m\u001b[43m)\u001b[49m\n\u001b[1;32m      8\u001b[0m torch\u001b[38;5;241m.\u001b[39mgather(t, \u001b[38;5;241m-\u001b[39m\u001b[38;5;241m1\u001b[39m, idx)\u001b[38;5;241m.\u001b[39mshape\n",
      "\u001b[0;31mRuntimeError\u001b[0m: Boolean value of Tensor with more than one value is ambiguous"
     ]
    }
   ],
   "source": [
    "import torch\n",
    "import numpy as np\n",
    "\n",
    "t = torch.randn((1, 2, 3, 5, 6))\n",
    "# (t < 3).nonzero().shape\n",
    "\n",
    "# обнулила тут \n",
    "# нахожу индекс\n",
    "idx = torch.argmax(t, dim=-1, keepdim=True)\n",
    "idx = torch.max(0, torch.argmin(t, dim=-1, keepdim=True) - 1)\n",
    "torch.gather(t, -1, idx).shape"
   ]
  },
  {
   "cell_type": "code",
   "execution_count": 23,
   "id": "278235c4",
   "metadata": {},
   "outputs": [
    {
     "data": {
      "text/plain": [
       "tensor([[[[5, 4, 5, 3, 0],\n",
       "          [5, 0, 5, 4, 2],\n",
       "          [4, 1, 4, 2, 4]],\n",
       "\n",
       "         [[3, 5, 5, 4, 0],\n",
       "          [4, 5, 3, 2, 1],\n",
       "          [3, 3, 5, 1, 4]]]])"
      ]
     },
     "execution_count": 23,
     "metadata": {},
     "output_type": "execute_result"
    }
   ],
   "source": [
    "torch.argmin(t, dim=-1, keepdim=False)"
   ]
  },
  {
   "cell_type": "code",
   "execution_count": 9,
   "id": "75a3ba31",
   "metadata": {},
   "outputs": [
    {
     "data": {
      "text/plain": [
       "torch.Size([1, 2, 3])"
      ]
     },
     "execution_count": 9,
     "metadata": {},
     "output_type": "execute_result"
    }
   ],
   "source": [
    "t.shape"
   ]
  },
  {
   "cell_type": "code",
   "execution_count": 4,
   "id": "10009bb8",
   "metadata": {},
   "outputs": [
    {
     "data": {
      "text/plain": [
       "tensor([1, 2, 3, 4])"
      ]
     },
     "execution_count": 4,
     "metadata": {},
     "output_type": "execute_result"
    }
   ],
   "source": [
    "t"
   ]
  },
  {
   "cell_type": "markdown",
   "id": "540d8642-c203-471c-a66d-0d43aabb0706",
   "metadata": {
    "pycharm": {
     "name": "#%% md\n"
    }
   },
   "source": [
    "# StyleAligned over SD1.4"
   ]
  },
  {
   "cell_type": "code",
   "execution_count": null,
   "id": "23d54ea7-f7ab-4548-9b10-ece87216dc18",
   "metadata": {
    "pycharm": {
     "name": "#%%\n"
    }
   },
   "outputs": [],
   "source": [
    "from diffusers import DDIMScheduler,StableDiffusionPipeline\n",
    "import torch\n",
    "import mediapy\n",
    "import sa_handler\n",
    "import math"
   ]
  },
  {
   "cell_type": "code",
   "execution_count": null,
   "id": "522b14e7-9768-4eaa-8433-bf88acb244c4",
   "metadata": {
    "pycharm": {
     "name": "#%%\n"
    }
   },
   "outputs": [],
   "source": [
    "scheduler = DDIMScheduler(beta_start=0.00085, beta_end=0.012, beta_schedule=\"scaled_linear\", clip_sample=False,\n",
    "                          set_alpha_to_one=False)\n",
    "pipeline = StableDiffusionPipeline.from_pretrained(\n",
    "    \"CompVis/stable-diffusion-v1-4\",\n",
    "    revision=\"fp16\",\n",
    "    scheduler=scheduler\n",
    ")\n",
    "pipeline = pipeline.to(\"cuda\")\n",
    "\n",
    "handler = sa_handler.Handler(pipeline)\n",
    "sa_args = sa_handler.StyleAlignedArgs(share_group_norm=True,\n",
    "                                      share_layer_norm=True,\n",
    "                                      share_attention=True,\n",
    "                                      adain_queries=True,\n",
    "                                      adain_keys=True,\n",
    "                                      adain_values=False,\n",
    "                                     )\n",
    "\n",
    "handler.register(sa_args, )"
   ]
  },
  {
   "cell_type": "code",
   "execution_count": null,
   "id": "5db98c81-8b72-4fc7-8cd0-65eda17198e3",
   "metadata": {
    "pycharm": {
     "name": "#%%\n"
    }
   },
   "outputs": [],
   "source": [
    "# run StyleAligned\n",
    "\n",
    "sets_of_prompts = [\n",
    "  \"a toy train. macro photo. 3d game asset\",\n",
    "  \"a toy airplane. macro photo. 3d game asset\",\n",
    "  \"a toy bicycle. macro photo. 3d game asset\",\n",
    "  \"a toy car. macro photo. 3d game asset\",\n",
    "  \"a toy boat. macro photo. 3d game asset\",\n",
    "]\n",
    "images = pipeline(sets_of_prompts, generator=None).images\n",
    "mediapy.show_images(images)"
   ]
  },
  {
   "cell_type": "code",
   "execution_count": null,
   "id": "afbe3876-22d9-4735-89b9-d5b5c46aea5c",
   "metadata": {
    "pycharm": {
     "name": "#%%\n"
    }
   },
   "outputs": [],
   "source": []
  }
 ],
 "metadata": {
  "kernelspec": {
   "display_name": "neudachina",
   "language": "python",
   "name": "python3"
  },
  "language_info": {
   "codemirror_mode": {
    "name": "ipython",
    "version": 3
   },
   "file_extension": ".py",
   "mimetype": "text/x-python",
   "name": "python",
   "nbconvert_exporter": "python",
   "pygments_lexer": "ipython3",
   "version": "3.12.3"
  }
 },
 "nbformat": 4,
 "nbformat_minor": 5
}
